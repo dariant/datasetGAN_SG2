{
 "cells": [
  {
   "cell_type": "code",
   "execution_count": null,
   "metadata": {},
   "outputs": [],
   "source": [
    "path = \"CrossEyed_RGB\"\n",
    "\n",
    "exp = \"IJCB_EXPERIMENTS/\" + path\n",
    "sv_path = \"IJCB_EXPERIMENTS/\" + path\n"
   ]
  },
  {
   "cell_type": "code",
   "execution_count": null,
   "metadata": {},
   "outputs": [],
   "source": [
    "\n",
    "exp_generate = exp + \"/generate.json\" #\"experiments/eyes_512_stylegan2_generate.json\"\n",
    "\n",
    "\n",
    "# GENERATE training stuff \n",
    "!bash docker_run.sh python make_training_data.py --exp=$exp_generate --sv_path=$sv_path\n"
   ]
  },
  {
   "cell_type": "code",
   "execution_count": null,
   "metadata": {},
   "outputs": [],
   "source": []
  },
  {
   "cell_type": "code",
   "execution_count": null,
   "metadata": {},
   "outputs": [],
   "source": [
    "# Train interpreter\n",
    "exp_interpreter = exp + \"/train_datagan.json\" \n",
    "!bash docker_run.sh python train_interpreter.py --exp $exp_interpreter\n",
    "\n"
   ]
  },
  {
   "cell_type": "code",
   "execution_count": null,
   "metadata": {},
   "outputs": [],
   "source": []
  },
  {
   "cell_type": "code",
   "execution_count": null,
   "metadata": {},
   "outputs": [],
   "source": [
    "# GENERATE data \n",
    "resume_model = \"IJCB_EXPERIMENTS/CrossEyed_RGB\"\n",
    "num_samples = 5\n",
    "\n",
    "exp_interpreter = exp + \"/train_datagan.json\" \n",
    "!bash docker_run.sh python train_interpreter.py --generate_data True --exp=$exp_interpreter  --resume $resume_model  --num_sample=$num_samples\n"
   ]
  },
  {
   "cell_type": "code",
   "execution_count": null,
   "metadata": {},
   "outputs": [],
   "source": []
  }
 ],
 "metadata": {
  "interpreter": {
   "hash": "18479fac5746d32b43421ca5e0ee2dd5840b086e4ab03684aa8ec83129c0c31d"
  },
  "kernelspec": {
   "display_name": "Python 3.8.12 64-bit ('dataGAN': conda)",
   "language": "python",
   "name": "python3"
  },
  "language_info": {
   "codemirror_mode": {
    "name": "ipython",
    "version": 3
   },
   "file_extension": ".py",
   "mimetype": "text/x-python",
   "name": "python",
   "nbconvert_exporter": "python",
   "pygments_lexer": "ipython3",
   "version": "3.8.12"
  },
  "orig_nbformat": 4
 },
 "nbformat": 4,
 "nbformat_minor": 2
}
